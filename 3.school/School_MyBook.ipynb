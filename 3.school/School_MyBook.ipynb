{
 "cells": [
  {
   "cell_type": "markdown",
   "id": "4fcf929f",
   "metadata": {},
   "source": [
    "### 公立中学校のクラス編成問題\n",
    "\n",
    "-   【要件1】学年の全生徒をそれぞれ1つのクラスに割り当てる。\n",
    "-   【要件2】各クラスの人数は39人以上、40人以下とする。　　318人の生徒、8つのクラス。\n",
    "-   【要件3】各クラスの男子生徒、女子生徒の人数は20人以下とする。　男子生徒158人、女子生徒160人。\n",
    "-   【要件4】各クラスの学力の平均点は学年平均の$\\pm10$点とする。　500点満点で、学年平均303.6点。\n",
    "-   【要件5】各クラスにリーダー気質の生徒を2人以上割り当てる。　　学年にリーダー気質は17人。\n",
    "-   【要件6】特別な支援が必要な生徒は各クラスに1人以下とする。　　学年に特別な支援が必要な生徒は4人。\n",
    "-   【要件7】特定ペアの生徒は同一クラスに割り当てない　　　　　　 学年に特定ペアは3組みいる。"
   ]
  },
  {
   "cell_type": "markdown",
   "id": "059db64c",
   "metadata": {},
   "source": [
    "1.データの中身の確認"
   ]
  },
  {
   "cell_type": "code",
   "execution_count": 2,
   "id": "c4fefe41",
   "metadata": {},
   "outputs": [
    {
     "name": "stdout",
     "output_type": "stream",
     "text": [
      "students.csvの要素数：318\n"
     ]
    },
    {
     "data": {
      "text/html": [
       "<div>\n",
       "<style scoped>\n",
       "    .dataframe tbody tr th:only-of-type {\n",
       "        vertical-align: middle;\n",
       "    }\n",
       "\n",
       "    .dataframe tbody tr th {\n",
       "        vertical-align: top;\n",
       "    }\n",
       "\n",
       "    .dataframe thead th {\n",
       "        text-align: right;\n",
       "    }\n",
       "</style>\n",
       "<table border=\"1\" class=\"dataframe\">\n",
       "  <thead>\n",
       "    <tr style=\"text-align: right;\">\n",
       "      <th></th>\n",
       "      <th>student_id</th>\n",
       "      <th>gender</th>\n",
       "      <th>leader_flag</th>\n",
       "      <th>support_flag</th>\n",
       "      <th>score</th>\n",
       "    </tr>\n",
       "  </thead>\n",
       "  <tbody>\n",
       "    <tr>\n",
       "      <th>0</th>\n",
       "      <td>1</td>\n",
       "      <td>0</td>\n",
       "      <td>0</td>\n",
       "      <td>0</td>\n",
       "      <td>335</td>\n",
       "    </tr>\n",
       "    <tr>\n",
       "      <th>1</th>\n",
       "      <td>2</td>\n",
       "      <td>1</td>\n",
       "      <td>0</td>\n",
       "      <td>0</td>\n",
       "      <td>379</td>\n",
       "    </tr>\n",
       "    <tr>\n",
       "      <th>2</th>\n",
       "      <td>3</td>\n",
       "      <td>0</td>\n",
       "      <td>0</td>\n",
       "      <td>0</td>\n",
       "      <td>350</td>\n",
       "    </tr>\n",
       "    <tr>\n",
       "      <th>3</th>\n",
       "      <td>4</td>\n",
       "      <td>0</td>\n",
       "      <td>0</td>\n",
       "      <td>0</td>\n",
       "      <td>301</td>\n",
       "    </tr>\n",
       "    <tr>\n",
       "      <th>4</th>\n",
       "      <td>5</td>\n",
       "      <td>1</td>\n",
       "      <td>0</td>\n",
       "      <td>0</td>\n",
       "      <td>317</td>\n",
       "    </tr>\n",
       "  </tbody>\n",
       "</table>\n",
       "</div>"
      ],
      "text/plain": [
       "   student_id  gender  leader_flag  support_flag  score\n",
       "0           1       0            0             0    335\n",
       "1           2       1            0             0    379\n",
       "2           3       0            0             0    350\n",
       "3           4       0            0             0    301\n",
       "4           5       1            0             0    317"
      ]
     },
     "execution_count": 2,
     "metadata": {},
     "output_type": "execute_result"
    }
   ],
   "source": [
    "import pandas as pd\n",
    "\n",
    "s_df = pd.read_csv(\"students.csv\")\n",
    "print(f\"students.csvの要素数：{len(s_df)}\")\n",
    "s_df.head()"
   ]
  },
  {
   "cell_type": "markdown",
   "id": "370dd841",
   "metadata": {},
   "source": [
    "次に、カラムに登録されているデータを確認してみる。"
   ]
  },
  {
   "cell_type": "code",
   "execution_count": 3,
   "id": "01f96ed8",
   "metadata": {},
   "outputs": [
    {
     "data": {
      "text/plain": [
       "0        1\n",
       "1        2\n",
       "2        3\n",
       "3        4\n",
       "4        5\n",
       "      ... \n",
       "313    314\n",
       "314    315\n",
       "315    316\n",
       "316    317\n",
       "317    318\n",
       "Name: student_id, Length: 318, dtype: int64"
      ]
     },
     "execution_count": 3,
     "metadata": {},
     "output_type": "execute_result"
    }
   ],
   "source": [
    "s_df[\"student_id\"]"
   ]
  },
  {
   "cell_type": "code",
   "execution_count": null,
   "id": "3e95ba1e",
   "metadata": {},
   "outputs": [
    {
     "name": "stdout",
     "output_type": "stream",
     "text": [
      "318\n",
      "1\n"
     ]
    }
   ],
   "source": [
    "print(s_df[\"student_id\"].max()) # 学籍番号の最大値と最小値の確認\n",
    "print(s_df[\"student_id\"].min())"
   ]
  },
  {
   "cell_type": "code",
   "execution_count": null,
   "id": "a41a10ef",
   "metadata": {},
   "outputs": [
    {
     "data": {
      "text/plain": [
       "True"
      ]
     },
     "execution_count": 5,
     "metadata": {},
     "output_type": "execute_result"
    }
   ],
   "source": [
    "set(range(1, 319)) == set(s_df[\"student_id\"].tolist()) # 1～318まで隙間なく番号で埋められているか確認\n",
    "# range(1, 319)で1～318までの整数を作り、set()でそれらを集合にしている。\n",
    "# 抜けや重複があればFalse が返る"
   ]
  },
  {
   "cell_type": "markdown",
   "id": "56fce5bc",
   "metadata": {},
   "source": [
    "genderの中身を確認してみる。value_counts()で、カラム内の各要素（0 or 1）の数をカウントする。"
   ]
  },
  {
   "cell_type": "code",
   "execution_count": 6,
   "id": "ebc4e683",
   "metadata": {},
   "outputs": [
    {
     "data": {
      "text/plain": [
       "gender\n",
       "0    160\n",
       "1    158\n",
       "Name: count, dtype: int64"
      ]
     },
     "execution_count": 6,
     "metadata": {},
     "output_type": "execute_result"
    }
   ],
   "source": [
    "s_df[\"gender\"].value_counts()"
   ]
  },
  {
   "cell_type": "markdown",
   "id": "f968b09c",
   "metadata": {},
   "source": [
    "次に、scoreを確認する。describe()関数で、カラム内の基本的な統計要約を出力する。"
   ]
  },
  {
   "cell_type": "code",
   "execution_count": 7,
   "id": "21f5807a",
   "metadata": {},
   "outputs": [
    {
     "data": {
      "text/plain": [
       "count    318.000000\n",
       "mean     303.644654\n",
       "std       65.179995\n",
       "min       88.000000\n",
       "25%      261.000000\n",
       "50%      310.000000\n",
       "75%      350.000000\n",
       "max      485.000000\n",
       "Name: score, dtype: float64"
      ]
     },
     "execution_count": 7,
     "metadata": {},
     "output_type": "execute_result"
    }
   ],
   "source": [
    "s_df[\"score\"].describe()"
   ]
  },
  {
   "cell_type": "markdown",
   "id": "507471ad",
   "metadata": {},
   "source": [
    "学力データをヒストグラムで確認してみる。"
   ]
  },
  {
   "cell_type": "code",
   "execution_count": 10,
   "id": "18350ddb",
   "metadata": {},
   "outputs": [
    {
     "data": {
      "text/plain": [
       "<Axes: >"
      ]
     },
     "execution_count": 10,
     "metadata": {},
     "output_type": "execute_result"
    },
    {
     "data": {
      "image/png": "[encoded data removed]",
      "text/plain": [
       "<Figure size 640x480 with 1 Axes>"
      ]
     },
     "metadata": {},
     "output_type": "display_data"
    }
   ],
   "source": [
    "s_df[\"score\"].hist(bins=10)"
   ]
  },
  {
   "cell_type": "markdown",
   "id": "8be7df92",
   "metadata": {},
   "source": [
    "最後に、leader_flagとsupport_flagの確認をする。"
   ]
  },
  {
   "cell_type": "code",
   "execution_count": 12,
   "id": "f5f662d7",
   "metadata": {},
   "outputs": [
    {
     "name": "stdout",
     "output_type": "stream",
     "text": [
      "leader_flag\n",
      "0    301\n",
      "1     17\n",
      "Name: count, dtype: int64\n",
      "support_flag\n",
      "0    314\n",
      "1      4\n",
      "Name: count, dtype: int64\n"
     ]
    }
   ],
   "source": [
    "print(s_df[\"leader_flag\"].value_counts())\n",
    "print(s_df[\"support_flag\"].value_counts())"
   ]
  },
  {
   "cell_type": "markdown",
   "id": "f684ca70",
   "metadata": {},
   "source": [
    "### 以上で、生徒データの確認は完了。\n",
    "\n",
    "次に、特定ペアのデータを確認する。"
   ]
  },
  {
   "cell_type": "code",
   "execution_count": 16,
   "id": "0299e97a",
   "metadata": {},
   "outputs": [
    {
     "name": "stdout",
     "output_type": "stream",
     "text": [
      "students_pairs.csvの要素数：3\n"
     ]
    },
    {
     "data": {
      "text/html": [
       "<div>\n",
       "<style scoped>\n",
       "    .dataframe tbody tr th:only-of-type {\n",
       "        vertical-align: middle;\n",
       "    }\n",
       "\n",
       "    .dataframe tbody tr th {\n",
       "        vertical-align: top;\n",
       "    }\n",
       "\n",
       "    .dataframe thead th {\n",
       "        text-align: right;\n",
       "    }\n",
       "</style>\n",
       "<table border=\"1\" class=\"dataframe\">\n",
       "  <thead>\n",
       "    <tr style=\"text-align: right;\">\n",
       "      <th></th>\n",
       "      <th>student_id1</th>\n",
       "      <th>student_id2</th>\n",
       "    </tr>\n",
       "  </thead>\n",
       "  <tbody>\n",
       "    <tr>\n",
       "      <th>0</th>\n",
       "      <td>118</td>\n",
       "      <td>189</td>\n",
       "    </tr>\n",
       "    <tr>\n",
       "      <th>1</th>\n",
       "      <td>72</td>\n",
       "      <td>50</td>\n",
       "    </tr>\n",
       "    <tr>\n",
       "      <th>2</th>\n",
       "      <td>314</td>\n",
       "      <td>233</td>\n",
       "    </tr>\n",
       "  </tbody>\n",
       "</table>\n",
       "</div>"
      ],
      "text/plain": [
       "   student_id1  student_id2\n",
       "0          118          189\n",
       "1           72           50\n",
       "2          314          233"
      ]
     },
     "execution_count": 16,
     "metadata": {},
     "output_type": "execute_result"
    }
   ],
   "source": [
    "s_pair_df = pd.read_csv(\"student_pairs.csv\")\n",
    "print(f\"students_pairs.csvの要素数：{len(s_pair_df)}\")\n",
    "s_pair_df.head()"
   ]
  },
  {
   "cell_type": "markdown",
   "id": "9c44aaf0",
   "metadata": {},
   "source": [
    "### 以上で、データの確認は完了。続いて数理モデリングと実装に入る。"
   ]
  },
  {
   "cell_type": "markdown",
   "id": "3cd555e4",
   "metadata": {},
   "source": [
    "Pulpを取り込んで、数理モデルのインスタンスを生成。\n",
    "今回は目的関数は定義しないが、次章で最大化問題を使うので、ここではLpMaximizeを使用する。"
   ]
  },
  {
   "cell_type": "code",
   "execution_count": null,
   "id": "a8c276c4",
   "metadata": {},
   "outputs": [],
   "source": [
    "import pulp\n",
    "\n",
    "prob = pulp.LpProblem(\"ClassAssignmentProblem\", pulp.LpMaximize)  # 数理モデルのインスタンスを生成"
   ]
  },
  {
   "cell_type": "markdown",
   "id": "75654d85",
   "metadata": {},
   "source": [
    "ここから、冒頭の7つの要件を数理モデリングしていく。\n",
    "\n",
    "-   【要件1】学年の全生徒をそれぞれ1つのクラスに割り当てる。\n",
    "-   【要件2】各クラスの人数は39人以上、40人以下とする。　　318人の生徒、8つのクラス。\n",
    "-   【要件3】各クラスの男子生徒、女子生徒の人数は20人以下とする。　男子生徒158人、女子生徒160人。\n",
    "-   【要件4】各クラスの学力の平均点は学年平均の$\\pm10$点とする。　500点満点で、学年平均303.6点。\n",
    "-   【要件5】各クラスにリーダー気質の生徒を2人以上割り当てる。　　学年にリーダー気質は17人。\n",
    "-   【要件6】特別な支援が必要な生徒は各クラスに1人以下とする。　　学年に特別な支援が必要な生徒は4人。\n",
    "-   【要件7】特定ペアの生徒は同一クラスに割り当てない　　　　　　 学年に特定ペアは3組みいる。"
   ]
  },
  {
   "cell_type": "markdown",
   "id": "254e7b32",
   "metadata": {},
   "source": [
    "### 【要件1】各生徒は1つのクラスに割り当てる\n",
    "$$\\sum_{c \\in C} x_{s,c} = 1$$\n",
    "\n",
    "生徒 s が、クラスc に割り当てられると、1になる。ある生徒sは、8クラス中1クラスのみ1になるので、8クラス分足し合わせて1になる。\n",
    "\n",
    "では、生徒のリストSとクラスのリストCを作る。"
   ]
  },
  {
   "cell_type": "code",
   "execution_count": 18,
   "id": "a769369f",
   "metadata": {},
   "outputs": [],
   "source": [
    "S = s_df[\"student_id\"].tolist()               # 生徒のリスト（データフレームから学籍番号をリストで取得。\n",
    "C = [\"A\", \"B\", \"C\", \"D\", \"E\", \"F\", \"G\", \"H\"]  # クラスのリスト（自分で作成）"
   ]
  },
  {
   "cell_type": "markdown",
   "id": "8eea61c7",
   "metadata": {},
   "source": [
    "次に、生徒をどのクラスに割り当てるかを実装する。\n",
    "\n",
    "生徒とクラスの考えられる全ペアのリストと、変数を定義する。"
   ]
  },
  {
   "cell_type": "code",
   "execution_count": null,
   "id": "fba39377",
   "metadata": {},
   "outputs": [],
   "source": [
    "SC = [(s, c) for s in S for c in C]  # 生徒 s とクラス c の全組み合わせのリストを作成。\n",
    "\n",
    "x = pulp.LpVariable.dicts(\"x\", SC, cat=\"Binary\")\n",
    "                            # 第一引数：変数名\n",
    "                            # 第二引数：まとめて作る変数の添え字リスト（学籍番号, クラス名）\n",
    "                            # 第三引数：変数のタイプ（Binaryなので、０か１かをとる）"
   ]
  },
  {
   "cell_type": "markdown",
   "id": "53daf5cc",
   "metadata": {},
   "source": []
  }
 ],
 "metadata": {
  "kernelspec": {
   "display_name": "python312_Math_Opti_TextBook",
   "language": "python",
   "name": "python3"
  },
  "language_info": {
   "codemirror_mode": {
    "name": "ipython",
    "version": 3
   },
   "file_extension": ".py",
   "mimetype": "text/x-python",
   "name": "python",
   "nbconvert_exporter": "python",
   "pygments_lexer": "ipython3",
   "version": "3.12.9"
  }
 },
 "nbformat": 4,
 "nbformat_minor": 5
}
