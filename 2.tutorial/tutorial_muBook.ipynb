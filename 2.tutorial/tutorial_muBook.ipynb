{
 "cells": [
  {
   "cell_type": "markdown",
   "id": "82cd6794",
   "metadata": {},
   "source": [
    "連立一次方程式をPythonの数理最適化モデルで解く\n",
    "\n",
    "最大化したい問題ではないので、「目的関数がゼロ」の最適化問題"
   ]
  },
  {
   "cell_type": "code",
   "execution_count": null,
   "id": "9e9966ac",
   "metadata": {},
   "outputs": [
    {
     "data": {
      "text/plain": [
       "SLE:\n",
       "MAXIMIZE\n",
       "None\n",
       "VARIABLES"
      ]
     },
     "execution_count": 2,
     "metadata": {},
     "output_type": "execute_result"
    }
   ],
   "source": [
    "import pulp\n",
    "# 数理モデルの定義（最大化問題になっているが、\n",
    "problem = pulp.LpProblem(\"SLE\", pulp.LpMaximize)\n",
    "problem"
   ]
  },
  {
   "cell_type": "code",
   "execution_count": null,
   "id": "5f6e9284",
   "metadata": {},
   "outputs": [],
   "source": [
    "# 変数の定義\n",
    "x = pulp.LpVariable(\"x\", cat=\"Continuous\")\n",
    "y = pulp.LpVariable(\"y\", cat=\"Continuous\")"
   ]
  },
  {
   "cell_type": "code",
   "execution_count": null,
   "id": "a5157bc9",
   "metadata": {},
   "outputs": [
    {
     "data": {
      "text/plain": [
       "SLE:\n",
       "MAXIMIZE\n",
       "None\n",
       "SUBJECT TO\n",
       "_C1: 120 x + 150 y = 1440\n",
       "\n",
       "_C2: x + y = 10\n",
       "\n",
       "VARIABLES\n",
       "x free Continuous\n",
       "y free Continuous"
      ]
     },
     "execution_count": 4,
     "metadata": {},
     "output_type": "execute_result"
    }
   ],
   "source": [
    "# 制約条件の定義：==なので等式制約（目的関数ではない）\n",
    "problem += 120*x + 150*y == 1440\n",
    "problem += x + y == 10\n",
    "problem"
   ]
  },
  {
   "cell_type": "code",
   "execution_count": null,
   "id": "425a9e68",
   "metadata": {},
   "outputs": [
    {
     "name": "stdout",
     "output_type": "stream",
     "text": [
      "Status :  Optimal\n"
     ]
    }
   ],
   "source": [
    "# 問題を解く\n",
    "status = problem.solve()     # 解が見つかったかどうかをsttatusに入れる\n",
    "print(\"Status : \", pulp.LpStatus[status])"
   ]
  },
  {
   "cell_type": "code",
   "execution_count": 6,
   "id": "58770f85",
   "metadata": {},
   "outputs": [
    {
     "name": "stdout",
     "output_type": "stream",
     "text": [
      "x : 2.0, y : 8.0\n"
     ]
    }
   ],
   "source": [
    "# 最適化結果の表示\n",
    "print(f\"x : {x.value()}, y : {y.value()}\")"
   ]
  },
  {
   "cell_type": "markdown",
   "id": "8bd49588",
   "metadata": {},
   "source": [
    "$製品 m を x\\:kg、製品 n を y\\:kg作る問題 \\\\\n",
    "【制約条件】 \\\\\n",
    "x + 3y \\leq 30 （原料の制約）\\\\\n",
    "2x + y \\leq 40 （原料の制約）\\\\\n",
    "x \\geq 0 , y \\geq 0 \\\\\n",
    "x + 2y （利益を最大化する）\n",
    "$"
   ]
  },
  {
   "cell_type": "code",
   "execution_count": 8,
   "id": "9abf5eda",
   "metadata": {},
   "outputs": [
    {
     "name": "stdout",
     "output_type": "stream",
     "text": [
      "Status : Optimal\n",
      "---Optimal Solution---\n",
      "製品 x : 18.0 kg\n",
      "製品 y : 4.0 kg\n",
      "合計利益：26.0\n"
     ]
    }
   ],
   "source": [
    "import pulp\n",
    "\n",
    "# 問題定義\n",
    "problem = pulp.LpProblem(\"Profit_Maximize\", pulp.LpMaximize)\n",
    "\n",
    "# 変数の定義\n",
    "x = pulp.LpVariable(\"x\", lowBound=0, cat=\"Continuous\")\n",
    "y = pulp.LpVariable(\"y\", lowBound=0, cat=\"Continuous\")\n",
    "\n",
    "# 目的関数の設定\n",
    "problem += x + 2*y, \"Total_Profit\"\n",
    "\n",
    "# 制約条件の追加\n",
    "problem += x + 3*y <= 30\n",
    "problem += 2*x + y <= 40\n",
    "problem += x >= 0\n",
    "problem += y >= 0\n",
    "\n",
    "# 問題を解く\n",
    "status = problem.solve()\n",
    "\n",
    "# 結果の表示\n",
    "print(f\"Status : {pulp.LpStatus[status]}\")\n",
    "print(\"---Optimal Solution---\")\n",
    "print(f\"製品 x : {x.value()} kg\")\n",
    "print(f\"製品 y : {y.value()} kg\")\n",
    "print(f\"合計利益：{pulp.value(problem.objective)}\")"
   ]
  },
  {
   "cell_type": "markdown",
   "id": "345a7374",
   "metadata": {},
   "source": [
    "さらに規模の大きな数理最適化問題を解く"
   ]
  },
  {
   "cell_type": "code",
   "execution_count": 9,
   "id": "985b22a0",
   "metadata": {},
   "outputs": [
    {
     "data": {
      "text/html": [
       "<div>\n",
       "<style scoped>\n",
       "    .dataframe tbody tr th:only-of-type {\n",
       "        vertical-align: middle;\n",
       "    }\n",
       "\n",
       "    .dataframe tbody tr th {\n",
       "        vertical-align: top;\n",
       "    }\n",
       "\n",
       "    .dataframe thead th {\n",
       "        text-align: right;\n",
       "    }\n",
       "</style>\n",
       "<table border=\"1\" class=\"dataframe\">\n",
       "  <thead>\n",
       "    <tr style=\"text-align: right;\">\n",
       "      <th></th>\n",
       "      <th>m</th>\n",
       "      <th>stock</th>\n",
       "    </tr>\n",
       "  </thead>\n",
       "  <tbody>\n",
       "    <tr>\n",
       "      <th>0</th>\n",
       "      <td>m1</td>\n",
       "      <td>35</td>\n",
       "    </tr>\n",
       "    <tr>\n",
       "      <th>1</th>\n",
       "      <td>m2</td>\n",
       "      <td>22</td>\n",
       "    </tr>\n",
       "    <tr>\n",
       "      <th>2</th>\n",
       "      <td>m3</td>\n",
       "      <td>27</td>\n",
       "    </tr>\n",
       "  </tbody>\n",
       "</table>\n",
       "</div>"
      ],
      "text/plain": [
       "    m  stock\n",
       "0  m1     35\n",
       "1  m2     22\n",
       "2  m3     27"
      ]
     },
     "execution_count": 9,
     "metadata": {},
     "output_type": "execute_result"
    }
   ],
   "source": [
    "import pandas as pd\n",
    "import pulp\n",
    "\n",
    "# データの取得\n",
    "stock_df = pd.read_csv(\"stocks.csv\")\n",
    "stock_df"
   ]
  },
  {
   "cell_type": "code",
   "execution_count": 10,
   "id": "529a2ad9",
   "metadata": {},
   "outputs": [
    {
     "data": {
      "text/html": [
       "<div>\n",
       "<style scoped>\n",
       "    .dataframe tbody tr th:only-of-type {\n",
       "        vertical-align: middle;\n",
       "    }\n",
       "\n",
       "    .dataframe tbody tr th {\n",
       "        vertical-align: top;\n",
       "    }\n",
       "\n",
       "    .dataframe thead th {\n",
       "        text-align: right;\n",
       "    }\n",
       "</style>\n",
       "<table border=\"1\" class=\"dataframe\">\n",
       "  <thead>\n",
       "    <tr style=\"text-align: right;\">\n",
       "      <th></th>\n",
       "      <th>p</th>\n",
       "      <th>m</th>\n",
       "      <th>require</th>\n",
       "    </tr>\n",
       "  </thead>\n",
       "  <tbody>\n",
       "    <tr>\n",
       "      <th>0</th>\n",
       "      <td>p1</td>\n",
       "      <td>m1</td>\n",
       "      <td>2</td>\n",
       "    </tr>\n",
       "    <tr>\n",
       "      <th>1</th>\n",
       "      <td>p1</td>\n",
       "      <td>m2</td>\n",
       "      <td>0</td>\n",
       "    </tr>\n",
       "    <tr>\n",
       "      <th>2</th>\n",
       "      <td>p1</td>\n",
       "      <td>m3</td>\n",
       "      <td>1</td>\n",
       "    </tr>\n",
       "    <tr>\n",
       "      <th>3</th>\n",
       "      <td>p2</td>\n",
       "      <td>m1</td>\n",
       "      <td>3</td>\n",
       "    </tr>\n",
       "    <tr>\n",
       "      <th>4</th>\n",
       "      <td>p2</td>\n",
       "      <td>m2</td>\n",
       "      <td>2</td>\n",
       "    </tr>\n",
       "    <tr>\n",
       "      <th>5</th>\n",
       "      <td>p2</td>\n",
       "      <td>m3</td>\n",
       "      <td>0</td>\n",
       "    </tr>\n",
       "    <tr>\n",
       "      <th>6</th>\n",
       "      <td>p3</td>\n",
       "      <td>m1</td>\n",
       "      <td>0</td>\n",
       "    </tr>\n",
       "    <tr>\n",
       "      <th>7</th>\n",
       "      <td>p3</td>\n",
       "      <td>m2</td>\n",
       "      <td>2</td>\n",
       "    </tr>\n",
       "    <tr>\n",
       "      <th>8</th>\n",
       "      <td>p3</td>\n",
       "      <td>m3</td>\n",
       "      <td>2</td>\n",
       "    </tr>\n",
       "    <tr>\n",
       "      <th>9</th>\n",
       "      <td>p4</td>\n",
       "      <td>m1</td>\n",
       "      <td>2</td>\n",
       "    </tr>\n",
       "    <tr>\n",
       "      <th>10</th>\n",
       "      <td>p4</td>\n",
       "      <td>m2</td>\n",
       "      <td>2</td>\n",
       "    </tr>\n",
       "    <tr>\n",
       "      <th>11</th>\n",
       "      <td>p4</td>\n",
       "      <td>m3</td>\n",
       "      <td>2</td>\n",
       "    </tr>\n",
       "  </tbody>\n",
       "</table>\n",
       "</div>"
      ],
      "text/plain": [
       "     p   m  require\n",
       "0   p1  m1        2\n",
       "1   p1  m2        0\n",
       "2   p1  m3        1\n",
       "3   p2  m1        3\n",
       "4   p2  m2        2\n",
       "5   p2  m3        0\n",
       "6   p3  m1        0\n",
       "7   p3  m2        2\n",
       "8   p3  m3        2\n",
       "9   p4  m1        2\n",
       "10  p4  m2        2\n",
       "11  p4  m3        2"
      ]
     },
     "execution_count": 10,
     "metadata": {},
     "output_type": "execute_result"
    }
   ],
   "source": [
    "# データの取得\n",
    "requires_df = pd.read_csv(\"requires.csv\")\n",
    "requires_df"
   ]
  },
  {
   "cell_type": "code",
   "execution_count": 11,
   "id": "b9c15c47",
   "metadata": {},
   "outputs": [
    {
     "data": {
      "text/html": [
       "<div>\n",
       "<style scoped>\n",
       "    .dataframe tbody tr th:only-of-type {\n",
       "        vertical-align: middle;\n",
       "    }\n",
       "\n",
       "    .dataframe tbody tr th {\n",
       "        vertical-align: top;\n",
       "    }\n",
       "\n",
       "    .dataframe thead th {\n",
       "        text-align: right;\n",
       "    }\n",
       "</style>\n",
       "<table border=\"1\" class=\"dataframe\">\n",
       "  <thead>\n",
       "    <tr style=\"text-align: right;\">\n",
       "      <th></th>\n",
       "      <th>p</th>\n",
       "      <th>gain</th>\n",
       "    </tr>\n",
       "  </thead>\n",
       "  <tbody>\n",
       "    <tr>\n",
       "      <th>0</th>\n",
       "      <td>p1</td>\n",
       "      <td>3</td>\n",
       "    </tr>\n",
       "    <tr>\n",
       "      <th>1</th>\n",
       "      <td>p2</td>\n",
       "      <td>4</td>\n",
       "    </tr>\n",
       "    <tr>\n",
       "      <th>2</th>\n",
       "      <td>p3</td>\n",
       "      <td>4</td>\n",
       "    </tr>\n",
       "    <tr>\n",
       "      <th>3</th>\n",
       "      <td>p4</td>\n",
       "      <td>5</td>\n",
       "    </tr>\n",
       "  </tbody>\n",
       "</table>\n",
       "</div>"
      ],
      "text/plain": [
       "    p  gain\n",
       "0  p1     3\n",
       "1  p2     4\n",
       "2  p3     4\n",
       "3  p4     5"
      ]
     },
     "execution_count": 11,
     "metadata": {},
     "output_type": "execute_result"
    }
   ],
   "source": [
    "# データの取得\n",
    "gains_df = pd.read_csv(\"gains.csv\")\n",
    "gains_df"
   ]
  },
  {
   "cell_type": "code",
   "execution_count": 15,
   "id": "73aa5293",
   "metadata": {},
   "outputs": [
    {
     "data": {
      "text/plain": [
       "['p1', 'p2', 'p3', 'p4']"
      ]
     },
     "execution_count": 15,
     "metadata": {},
     "output_type": "execute_result"
    }
   ],
   "source": [
    "# 製品リストを作成\n",
    "P = gains_df[\"p\"].tolist()\n",
    "P"
   ]
  },
  {
   "cell_type": "code",
   "execution_count": 16,
   "id": "5e329ce9",
   "metadata": {},
   "outputs": [
    {
     "data": {
      "text/plain": [
       "['m1', 'm2', 'm3']"
      ]
     },
     "execution_count": 16,
     "metadata": {},
     "output_type": "execute_result"
    }
   ],
   "source": [
    "# 原料リストを作成\n",
    "M = stock_df[\"m\"].tolist()\n",
    "M"
   ]
  },
  {
   "cell_type": "code",
   "execution_count": null,
   "id": "774fdb6d",
   "metadata": {},
   "outputs": [
    {
     "data": {
      "text/plain": [
       "{'m1': 35, 'm2': 22, 'm3': 27}"
      ]
     },
     "execution_count": 17,
     "metadata": {},
     "output_type": "execute_result"
    }
   ],
   "source": [
    "# 定数の定義\n",
    "# 各原料の在庫量辞書：stock（stock_dfから取り出して、辞書形式にする）\n",
    "stock = {row.m:row.stock for row in stock_df.itertuples()}\n",
    "stock"
   ]
  },
  {
   "cell_type": "code",
   "execution_count": null,
   "id": "d94b90be",
   "metadata": {},
   "outputs": [
    {
     "data": {
      "text/plain": [
       "{'p1': 3, 'p2': 4, 'p3': 4, 'p4': 5}"
      ]
     },
     "execution_count": 18,
     "metadata": {},
     "output_type": "execute_result"
    }
   ],
   "source": [
    "# 各製品の利益辞書：gain（gain_dfから取り出して、辞書形式にする）\n",
    "gain = {row.p:row.gain for row in gains_df.itertuples()}\n",
    "gain"
   ]
  },
  {
   "cell_type": "code",
   "execution_count": 19,
   "id": "931c24f2",
   "metadata": {},
   "outputs": [
    {
     "data": {
      "text/plain": [
       "{('p1', 'm1'): 2,\n",
       " ('p1', 'm2'): 0,\n",
       " ('p1', 'm3'): 1,\n",
       " ('p2', 'm1'): 3,\n",
       " ('p2', 'm2'): 2,\n",
       " ('p2', 'm3'): 0,\n",
       " ('p3', 'm1'): 0,\n",
       " ('p3', 'm2'): 2,\n",
       " ('p3', 'm3'): 2,\n",
       " ('p4', 'm1'): 2,\n",
       " ('p4', 'm2'): 2,\n",
       " ('p4', 'm3'): 2}"
      ]
     },
     "execution_count": 19,
     "metadata": {},
     "output_type": "execute_result"
    }
   ],
   "source": [
    "# 各製品を作るのに必要な原料辞書：reqire（requires_dfから取り出して、辞書形式にする）\n",
    "require = {(row.p, row.m):row.require for row in requires_df.itertuples()}\n",
    "require"
   ]
  },
  {
   "cell_type": "code",
   "execution_count": 20,
   "id": "a7f02518",
   "metadata": {},
   "outputs": [
    {
     "data": {
      "text/plain": [
       "LP2:\n",
       "MAXIMIZE\n",
       "None\n",
       "VARIABLES"
      ]
     },
     "execution_count": 20,
     "metadata": {},
     "output_type": "execute_result"
    }
   ],
   "source": [
    "# 数理最適化モデルの定義\n",
    "problem = pulp.LpProblem(\"LP2\", pulp.LpMaximize)\n",
    "problem"
   ]
  },
  {
   "cell_type": "code",
   "execution_count": null,
   "id": "1d3ed95a",
   "metadata": {},
   "outputs": [
    {
     "data": {
      "text/plain": [
       "{'p1': x_p1, 'p2': x_p2, 'p3': x_p3, 'p4': x_p4}"
      ]
     },
     "execution_count": 24,
     "metadata": {},
     "output_type": "execute_result"
    }
   ],
   "source": [
    "# 変数の定義\n",
    "x = pulp.LpVariable.dicts(\"x\", P, cat=\"Continuous\")     # 各製品ごとの生産量x[p]を定義。\n",
    "x"
   ]
  },
  {
   "cell_type": "code",
   "execution_count": 33,
   "id": "a47917a0",
   "metadata": {},
   "outputs": [],
   "source": [
    "# 制約条件\n",
    "# 生産量は０以上\n",
    "for p in P:\n",
    "    problem += x[p] >= 0\n",
    "\n",
    "# 生産量は在庫の範囲内（必要な原料×生産量<=在庫）\n",
    "for m in M: # 各原料ごとに、全製品が使う総使用量が在庫量を超えないように制限。\n",
    "    problem += pulp.lpSum([require[p,m] * x[p] for p in P]) <= stock[m]"
   ]
  },
  {
   "cell_type": "code",
   "execution_count": 34,
   "id": "f09b328b",
   "metadata": {},
   "outputs": [
    {
     "name": "stderr",
     "output_type": "stream",
     "text": [
      "c:\\Users\\kondoy\\AppData\\Local\\miniconda3\\envs\\python312_Math_Opti_TextBook\\Lib\\site-packages\\pulp\\pulp.py:1780: UserWarning: Overwriting previously set objective.\n",
      "  warnings.warn(\"Overwriting previously set objective.\")\n"
     ]
    },
    {
     "data": {
      "text/plain": [
       "LP2:\n",
       "MAXIMIZE\n",
       "3*x_p1 + 4*x_p2 + 4*x_p3 + 5*x_p4 + 0.0\n",
       "SUBJECT TO\n",
       "_C1: x_p1 >= 0\n",
       "\n",
       "_C2: x_p2 >= 0\n",
       "\n",
       "_C3: x_p3 >= 0\n",
       "\n",
       "_C4: x_p4 >= 0\n",
       "\n",
       "_C5: 2 x_p1 + 3 x_p2 + 2 x_p4 <= 35\n",
       "\n",
       "_C6: 2 x_p2 + 2 x_p3 + 2 x_p4 <= 22\n",
       "\n",
       "_C7: x_p1 + 2 x_p3 + 2 x_p4 <= 27\n",
       "\n",
       "_C8: x_p1 >= 0\n",
       "\n",
       "_C9: x_p2 >= 0\n",
       "\n",
       "_C10: x_p3 >= 0\n",
       "\n",
       "_C11: x_p4 >= 0\n",
       "\n",
       "_C12: 2 x_p1 + 3 x_p2 + 2 x_p4 <= 35\n",
       "\n",
       "_C13: 2 x_p2 + 2 x_p3 + 2 x_p4 <= 22\n",
       "\n",
       "_C14: x_p1 + 2 x_p3 + 2 x_p4 <= 27\n",
       "\n",
       "VARIABLES\n",
       "x_p1 free Continuous\n",
       "x_p2 free Continuous\n",
       "x_p3 free Continuous\n",
       "x_p4 free Continuous"
      ]
     },
     "execution_count": 34,
     "metadata": {},
     "output_type": "execute_result"
    }
   ],
   "source": [
    "# 目的関数の定義\n",
    "problem += pulp.lpSum(gain[p] * x[p] for p in P) # 製品ごとの、利益×生産量 を合計して最大化する。\n",
    "problem"
   ]
  },
  {
   "cell_type": "code",
   "execution_count": 35,
   "id": "f5937f00",
   "metadata": {},
   "outputs": [
    {
     "name": "stdout",
     "output_type": "stream",
     "text": [
      "Status : Optimal\n"
     ]
    }
   ],
   "source": [
    "# 問題を解く\n",
    "status = problem.solve()\n",
    "print(f\"Status : {pulp.LpStatus[status]}\")"
   ]
  },
  {
   "cell_type": "code",
   "execution_count": 36,
   "id": "4b6c31f7",
   "metadata": {},
   "outputs": [
    {
     "name": "stdout",
     "output_type": "stream",
     "text": [
      "p1の生産量：12.142857\n",
      "p2の生産量：3.5714286\n",
      "p3の生産量：7.4285714\n",
      "p4の生産量：0.0\n",
      "最大利益：80.42857099999999\n"
     ]
    }
   ],
   "source": [
    "# 計算結果の可視化\n",
    "for p in P:\n",
    "    print(f\"{p}の生産量：{x[p].value()}\")\n",
    "\n",
    "print(f\"最大利益：{problem.objective.value()}\")"
   ]
  },
  {
   "cell_type": "code",
   "execution_count": null,
   "id": "73cd13d9",
   "metadata": {},
   "outputs": [
    {
     "name": "stdout",
     "output_type": "stream",
     "text": [
      "Status : Optimal\n",
      "p1の生産量：12.142857\n",
      "p2の生産量：3.5714286\n",
      "p3の生産量：7.4285714\n",
      "p4の生産量：0.0\n",
      "最大利益：80.42857099999999\n"
     ]
    }
   ],
   "source": [
    "import pandas as pd     # CSVからデータをデータフレームで読み込むために必要\n",
    "import pulp\n",
    "\n",
    "# データの取得\n",
    "stock_df = pd.read_csv(\"stocks.csv\")\n",
    "# データの取得\n",
    "requires_df = pd.read_csv(\"requires.csv\")\n",
    "# データの取得\n",
    "gains_df = pd.read_csv(\"gains.csv\")\n",
    "\n",
    "# 製品リストを作成\n",
    "P = gains_df[\"p\"].tolist()  # gains_dfのp列をリストに変換してPに入れる\n",
    "# 原料リストを作成\n",
    "M = stock_df[\"m\"].tolist()\n",
    "\n",
    "# 定数の定義（データフレームの内容を辞書にまとめる）\n",
    "# 各原料の在庫量辞書：stock（stock_dfから（原料名, 在庫量）のタプルで1行ずつ取り出して、辞書形式にまとめる）\n",
    "stock = {row.m:row.stock for row in stock_df.itertuples()}\n",
    "\n",
    "# 各製品の利益辞書：gain（gain_dfから取り出して、辞書形式にする）\n",
    "gain = {row.p:row.gain for row in gains_df.itertuples()}\n",
    "\n",
    "# 各製品を作るのに必要な原料辞書：reqire（requires_dfから取り出して、辞書形式にする）\n",
    "require = {(row.p, row.m):row.require for row in requires_df.itertuples()}\n",
    "\n",
    "# 数理最適化モデルの定義\n",
    "problem = pulp.LpProblem(\"LP2\", pulp.LpMaximize)\n",
    "\n",
    "# 変数の定義\n",
    "x = pulp.LpVariable.dicts(\"x\", P, cat=\"Continuous\")\n",
    "\n",
    "# 制約条件\n",
    "# 生産量は０以上\n",
    "for p in P:\n",
    "    problem += x[p] >= 0\n",
    "\n",
    "# 生産量は在庫の範囲内（必要な原料×生産量<=在庫）\n",
    "for m in M:\n",
    "    problem += pulp.lpSum(require[p,m] * x[p] for p in P) <= stock[m]\n",
    "\n",
    "# 目的関数の定義\n",
    "problem += pulp.lpSum(gain[p] * x[p] for p in P)\n",
    "problem\n",
    "\n",
    "# 問題を解く\n",
    "status = problem.solve()\n",
    "print(f\"Status : {pulp.LpStatus[status]}\")\n",
    "\n",
    "# 計算結果の可視化\n",
    "for p in P:\n",
    "    print(f\"{p}の生産量：{x[p].value()}\")\n",
    "\n",
    "print(f\"最大利益：{problem.objective.value()}\")"
   ]
  },
  {
   "cell_type": "markdown",
   "id": "361f808e",
   "metadata": {},
   "source": [
    "### 整数計画問題に変更する\n",
    "生産量が少数（実数）になっている。\n",
    "\n",
    "生産量が【個数】だった場合、ただ少数を丸めた結果（76万円）が最適解とは限らない。\n",
    "\n",
    "$\\underline{変更箇所}$\n",
    "-   変数の定義でContinuous---→Integer に変更する。\n",
    "-   モデル名をInteger Programmingの略、IPに変更する。\n",
    "\n",
    "整数計画法に変更することで、線形計画法の結果をただ丸めるよりも、利益が大きくなる（79万円）。"
   ]
  },
  {
   "cell_type": "code",
   "execution_count": 37,
   "id": "95e8dadf",
   "metadata": {},
   "outputs": [
    {
     "name": "stdout",
     "output_type": "stream",
     "text": [
      "Status : Optimal\n",
      "p1の生産量：13.0\n",
      "p2の生産量：3.0\n",
      "p3の生産量：7.0\n",
      "p4の生産量：-0.0\n",
      "最大利益：79.0\n"
     ]
    }
   ],
   "source": [
    "import pandas as pd     # CSVからデータをデータフレームで読み込むために必要\n",
    "import pulp\n",
    "\n",
    "# データの取得\n",
    "stock_df = pd.read_csv(\"stocks.csv\")\n",
    "requires_df = pd.read_csv(\"requires.csv\")\n",
    "gains_df = pd.read_csv(\"gains.csv\")\n",
    "\n",
    "# 製品リストを作成\n",
    "P = gains_df[\"p\"].tolist()  # gains_dfのp列をリストに変換してPに入れる\n",
    "M = stock_df[\"m\"].tolist()  # 原料リストを作成\n",
    "\n",
    "# 定数の定義（データフレームの内容を辞書にまとめる）\n",
    "stock = {row.m:row.stock for row in stock_df.itertuples()}                 # 各原料の在庫量辞書：stock（stock_dfから（原料名, 在庫量）のタプルで1行ずつ取り出して、辞書形式にまとめる）\n",
    "gain = {row.p:row.gain for row in gains_df.itertuples()}                   # 各製品の利益辞書：gain（gain_dfから取り出して、辞書形式にする）\n",
    "require = {(row.p, row.m):row.require for row in requires_df.itertuples()} # 各製品を作るのに必要な原料辞書：reqire（requires_dfから取り出して、辞書形式にする）\n",
    "\n",
    "# 数理最適化モデルの定義\n",
    "problem = pulp.LpProblem(\"IP\", pulp.LpMaximize)\n",
    "\n",
    "# 変数の定義\n",
    "x = pulp.LpVariable.dicts(\"x\", P, cat=\"Integer\")\n",
    "\n",
    "# 制約条件\n",
    "# 生産量は０以上\n",
    "for p in P:\n",
    "    problem += x[p] >= 0\n",
    "\n",
    "# 生産量は在庫の範囲内（必要な原料×生産量<=在庫）\n",
    "for m in M:\n",
    "    problem += pulp.lpSum(require[p,m] * x[p] for p in P) <= stock[m]\n",
    "\n",
    "# 目的関数の定義\n",
    "problem += pulp.lpSum(gain[p] * x[p] for p in P)\n",
    "problem\n",
    "\n",
    "# 問題を解く\n",
    "status = problem.solve()\n",
    "print(f\"Status : {pulp.LpStatus[status]}\")\n",
    "\n",
    "# 計算結果の可視化\n",
    "for p in P:\n",
    "    print(f\"{p}の生産量：{x[p].value()}\")\n",
    "\n",
    "print(f\"最大利益：{problem.objective.value()}\")"
   ]
  }
 ],
 "metadata": {
  "kernelspec": {
   "display_name": "python312_Math_Opti_TextBook",
   "language": "python",
   "name": "python3"
  },
  "language_info": {
   "codemirror_mode": {
    "name": "ipython",
    "version": 3
   },
   "file_extension": ".py",
   "mimetype": "text/x-python",
   "name": "python",
   "nbconvert_exporter": "python",
   "pygments_lexer": "ipython3",
   "version": "3.12.9"
  }
 },
 "nbformat": 4,
 "nbformat_minor": 5
}
